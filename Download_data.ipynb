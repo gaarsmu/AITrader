{
 "cells": [
  {
   "cell_type": "code",
   "execution_count": 73,
   "metadata": {
    "collapsed": false
   },
   "outputs": [],
   "source": [
    "import urllib.request\n",
    "import json\n",
    "import pickle\n",
    "import os\n",
    "import pandas as pd\n",
    "from tqdm import tqdm"
   ]
  },
  {
   "cell_type": "code",
   "execution_count": 76,
   "metadata": {
    "collapsed": true
   },
   "outputs": [],
   "source": [
    "#Set constants\n",
    "list_of_coins = ['BTC', 'XRP', 'ETH', 'XMR', 'ZEC', 'STR', 'ETC', 'DASH', 'LTC', 'NXT']\n",
    "time_start = 1483228800\n",
    "time_end =   1514764800\n",
    "period = 900\n",
    "url = 'https://poloniex.com/public?command=returnChartData'+'&start='+str(time_start)+'&end='+str(time_end)+'&period=' + str(period)"
   ]
  },
  {
   "cell_type": "code",
   "execution_count": 77,
   "metadata": {
    "collapsed": false
   },
   "outputs": [],
   "source": [
    "def download_data(time_start, time_end, coin):\n",
    "    req = urllib.request.urlopen(urllib.request.Request(url+'&currencyPair=USDT_'+str(coin))).read()\n",
    "    data = json.loads(req.decode('utf-8'))\n",
    "    pickle.dump(req, open('raw_data/' + str(coin), 'wb'))\n",
    "    return data"
   ]
  },
  {
   "cell_type": "code",
   "execution_count": 78,
   "metadata": {
    "collapsed": false
   },
   "outputs": [
    {
     "name": "stderr",
     "output_type": "stream",
     "text": [
      "100%|██████████| 10/10 [00:40<00:00,  4.08s/it]\n"
     ]
    }
   ],
   "source": [
    "env_data = {}\n",
    "for coin in tqdm(list_of_coins):\n",
    "    data = download_data(time_start, time_end, coin)\n",
    "    env_data[coin+'_close'] = []\n",
    "    env_data[coin+'_low'] = []\n",
    "    env_data[coin+'_high'] = []\n",
    "    for dct in data:\n",
    "        env_data[coin+'_close'].append(dct['close'])\n",
    "        env_data[coin+'_low'].append(dct['low'])\n",
    "        env_data[coin+'_high'].append(dct['high'])"
   ]
  },
  {
   "cell_type": "code",
   "execution_count": 79,
   "metadata": {
    "collapsed": true
   },
   "outputs": [],
   "source": [
    "pickle.dump(env_data, open('env_data_dict', 'wb'))"
   ]
  },
  {
   "cell_type": "code",
   "execution_count": 80,
   "metadata": {
    "collapsed": true
   },
   "outputs": [],
   "source": [
    "df = pd.DataFrame.from_dict(env_data)"
   ]
  },
  {
   "cell_type": "code",
   "execution_count": 87,
   "metadata": {
    "collapsed": false
   },
   "outputs": [
    {
     "data": {
      "text/html": [
       "<div>\n",
       "<style scoped>\n",
       "    .dataframe tbody tr th:only-of-type {\n",
       "        vertical-align: middle;\n",
       "    }\n",
       "\n",
       "    .dataframe tbody tr th {\n",
       "        vertical-align: top;\n",
       "    }\n",
       "\n",
       "    .dataframe thead th {\n",
       "        text-align: right;\n",
       "    }\n",
       "</style>\n",
       "<table border=\"1\" class=\"dataframe\">\n",
       "  <thead>\n",
       "    <tr style=\"text-align: right;\">\n",
       "      <th></th>\n",
       "      <th>BTC_close</th>\n",
       "      <th>BTC_high</th>\n",
       "      <th>BTC_low</th>\n",
       "      <th>DASH_close</th>\n",
       "      <th>DASH_high</th>\n",
       "      <th>DASH_low</th>\n",
       "      <th>ETC_close</th>\n",
       "      <th>ETC_high</th>\n",
       "      <th>ETC_low</th>\n",
       "      <th>ETH_close</th>\n",
       "      <th>...</th>\n",
       "      <th>STR_low</th>\n",
       "      <th>XMR_close</th>\n",
       "      <th>XMR_high</th>\n",
       "      <th>XMR_low</th>\n",
       "      <th>XRP_close</th>\n",
       "      <th>XRP_high</th>\n",
       "      <th>XRP_low</th>\n",
       "      <th>ZEC_close</th>\n",
       "      <th>ZEC_high</th>\n",
       "      <th>ZEC_low</th>\n",
       "    </tr>\n",
       "  </thead>\n",
       "  <tbody>\n",
       "    <tr>\n",
       "      <th>0</th>\n",
       "      <td>964.000000</td>\n",
       "      <td>966.150000</td>\n",
       "      <td>962.028165</td>\n",
       "      <td>11.340000</td>\n",
       "      <td>11.340000</td>\n",
       "      <td>11.326380</td>\n",
       "      <td>1.390225</td>\n",
       "      <td>1.398247</td>\n",
       "      <td>1.390225</td>\n",
       "      <td>8.157377</td>\n",
       "      <td>...</td>\n",
       "      <td>0.002445</td>\n",
       "      <td>13.786472</td>\n",
       "      <td>13.801120</td>\n",
       "      <td>13.786472</td>\n",
       "      <td>0.006487</td>\n",
       "      <td>0.006487</td>\n",
       "      <td>0.006482</td>\n",
       "      <td>47.870846</td>\n",
       "      <td>48.060609</td>\n",
       "      <td>47.870846</td>\n",
       "    </tr>\n",
       "    <tr>\n",
       "      <th>1</th>\n",
       "      <td>966.149998</td>\n",
       "      <td>966.149998</td>\n",
       "      <td>961.700000</td>\n",
       "      <td>11.305037</td>\n",
       "      <td>11.305037</td>\n",
       "      <td>11.305037</td>\n",
       "      <td>1.400361</td>\n",
       "      <td>1.405537</td>\n",
       "      <td>1.390225</td>\n",
       "      <td>8.184481</td>\n",
       "      <td>...</td>\n",
       "      <td>0.002445</td>\n",
       "      <td>13.763476</td>\n",
       "      <td>13.802193</td>\n",
       "      <td>13.763476</td>\n",
       "      <td>0.006487</td>\n",
       "      <td>0.006487</td>\n",
       "      <td>0.006487</td>\n",
       "      <td>48.400000</td>\n",
       "      <td>48.500000</td>\n",
       "      <td>47.870846</td>\n",
       "    </tr>\n",
       "    <tr>\n",
       "      <th>2</th>\n",
       "      <td>963.545459</td>\n",
       "      <td>964.519098</td>\n",
       "      <td>962.879999</td>\n",
       "      <td>11.305037</td>\n",
       "      <td>11.305037</td>\n",
       "      <td>11.305037</td>\n",
       "      <td>1.402057</td>\n",
       "      <td>1.402057</td>\n",
       "      <td>1.401227</td>\n",
       "      <td>8.228650</td>\n",
       "      <td>...</td>\n",
       "      <td>0.002445</td>\n",
       "      <td>13.763476</td>\n",
       "      <td>13.763476</td>\n",
       "      <td>13.700000</td>\n",
       "      <td>0.006487</td>\n",
       "      <td>0.006487</td>\n",
       "      <td>0.006487</td>\n",
       "      <td>48.400000</td>\n",
       "      <td>48.660000</td>\n",
       "      <td>48.384202</td>\n",
       "    </tr>\n",
       "    <tr>\n",
       "      <th>3</th>\n",
       "      <td>964.133267</td>\n",
       "      <td>965.668127</td>\n",
       "      <td>963.066163</td>\n",
       "      <td>11.305037</td>\n",
       "      <td>11.305037</td>\n",
       "      <td>11.305037</td>\n",
       "      <td>1.396504</td>\n",
       "      <td>1.396504</td>\n",
       "      <td>1.396504</td>\n",
       "      <td>8.229053</td>\n",
       "      <td>...</td>\n",
       "      <td>0.002445</td>\n",
       "      <td>13.700000</td>\n",
       "      <td>13.700000</td>\n",
       "      <td>13.700000</td>\n",
       "      <td>0.006487</td>\n",
       "      <td>0.006487</td>\n",
       "      <td>0.006487</td>\n",
       "      <td>48.140200</td>\n",
       "      <td>48.140200</td>\n",
       "      <td>48.140200</td>\n",
       "    </tr>\n",
       "    <tr>\n",
       "      <th>4</th>\n",
       "      <td>964.133275</td>\n",
       "      <td>965.855012</td>\n",
       "      <td>964.133268</td>\n",
       "      <td>11.305037</td>\n",
       "      <td>11.305037</td>\n",
       "      <td>11.305037</td>\n",
       "      <td>1.396638</td>\n",
       "      <td>1.396638</td>\n",
       "      <td>1.396504</td>\n",
       "      <td>8.242144</td>\n",
       "      <td>...</td>\n",
       "      <td>0.002445</td>\n",
       "      <td>13.700000</td>\n",
       "      <td>13.700000</td>\n",
       "      <td>13.700000</td>\n",
       "      <td>0.006487</td>\n",
       "      <td>0.006487</td>\n",
       "      <td>0.006487</td>\n",
       "      <td>48.474323</td>\n",
       "      <td>48.474323</td>\n",
       "      <td>48.311111</td>\n",
       "    </tr>\n",
       "  </tbody>\n",
       "</table>\n",
       "<p>5 rows × 30 columns</p>\n",
       "</div>"
      ],
      "text/plain": [
       "    BTC_close    BTC_high     BTC_low  DASH_close  DASH_high   DASH_low  \\\n",
       "0  964.000000  966.150000  962.028165   11.340000  11.340000  11.326380   \n",
       "1  966.149998  966.149998  961.700000   11.305037  11.305037  11.305037   \n",
       "2  963.545459  964.519098  962.879999   11.305037  11.305037  11.305037   \n",
       "3  964.133267  965.668127  963.066163   11.305037  11.305037  11.305037   \n",
       "4  964.133275  965.855012  964.133268   11.305037  11.305037  11.305037   \n",
       "\n",
       "   ETC_close  ETC_high   ETC_low  ETH_close    ...       STR_low  XMR_close  \\\n",
       "0   1.390225  1.398247  1.390225   8.157377    ...      0.002445  13.786472   \n",
       "1   1.400361  1.405537  1.390225   8.184481    ...      0.002445  13.763476   \n",
       "2   1.402057  1.402057  1.401227   8.228650    ...      0.002445  13.763476   \n",
       "3   1.396504  1.396504  1.396504   8.229053    ...      0.002445  13.700000   \n",
       "4   1.396638  1.396638  1.396504   8.242144    ...      0.002445  13.700000   \n",
       "\n",
       "    XMR_high    XMR_low  XRP_close  XRP_high   XRP_low  ZEC_close   ZEC_high  \\\n",
       "0  13.801120  13.786472   0.006487  0.006487  0.006482  47.870846  48.060609   \n",
       "1  13.802193  13.763476   0.006487  0.006487  0.006487  48.400000  48.500000   \n",
       "2  13.763476  13.700000   0.006487  0.006487  0.006487  48.400000  48.660000   \n",
       "3  13.700000  13.700000   0.006487  0.006487  0.006487  48.140200  48.140200   \n",
       "4  13.700000  13.700000   0.006487  0.006487  0.006487  48.474323  48.474323   \n",
       "\n",
       "     ZEC_low  \n",
       "0  47.870846  \n",
       "1  47.870846  \n",
       "2  48.384202  \n",
       "3  48.140200  \n",
       "4  48.311111  \n",
       "\n",
       "[5 rows x 30 columns]"
      ]
     },
     "execution_count": 87,
     "metadata": {},
     "output_type": "execute_result"
    }
   ],
   "source": [
    "df.head()"
   ]
  },
  {
   "cell_type": "code",
   "execution_count": 83,
   "metadata": {
    "collapsed": false
   },
   "outputs": [
    {
     "data": {
      "text/plain": [
       "(35041, 30)"
      ]
     },
     "execution_count": 83,
     "metadata": {},
     "output_type": "execute_result"
    }
   ],
   "source": [
    "df.shape"
   ]
  },
  {
   "cell_type": "code",
   "execution_count": 93,
   "metadata": {
    "collapsed": true
   },
   "outputs": [],
   "source": [
    "df.to_csv('env_data_csv', index=False)"
   ]
  }
 ],
 "metadata": {
  "anaconda-cloud": {},
  "kernelspec": {
   "display_name": "Python [conda root]",
   "language": "python",
   "name": "conda-root-py"
  },
  "language_info": {
   "codemirror_mode": {
    "name": "ipython",
    "version": 3
   },
   "file_extension": ".py",
   "mimetype": "text/x-python",
   "name": "python",
   "nbconvert_exporter": "python",
   "pygments_lexer": "ipython3",
   "version": "3.5.2"
  }
 },
 "nbformat": 4,
 "nbformat_minor": 1
}
